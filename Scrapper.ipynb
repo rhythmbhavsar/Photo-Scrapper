{
 "cells": [
  {
   "cell_type": "code",
   "execution_count": 12,
   "id": "c2d0d36c",
   "metadata": {},
   "outputs": [],
   "source": [
    "import requests\n",
    "from bs4 import BeautifulSoup\n",
    "\n",
    "url = \"https://www.google.com/search?q=car&sca_esv=592857161&rlz=1C1CHBF_enIN1017IN1017&tbm=isch&sxsrf=AM9HkKnEW5FfJ0OBtqtDUDutpG1v8dffLw:1703177744538&source=lnms&sa=X&ved=2ahUKEwiohc_D_6CDAxX4SWwGHWB9CPcQ_AUoAXoECAIQAw&biw=1366&bih=645&dpr=1\"  \n",
    "\n",
    "response = requests.get(url)\n",
    "\n",
    "soup = BeautifulSoup(response.content, 'html.parser')\n",
    "\n",
    "image_tags = soup.find_all('img')\n",
    "\n",
    "src_list = [img['src'] for img in image_tags if 'src' in img.attrs]\n",
    "https_links = [link for link in src_list if link.startswith('https://')]"
   ]
  },
  {
   "cell_type": "code",
   "execution_count": 13,
   "id": "73fbbc7a",
   "metadata": {},
   "outputs": [
    {
     "data": {
      "text/plain": [
       "['https://encrypted-tbn0.gstatic.com/images?q=tbn:ANd9GcQ-BbbM_aC3xr-7Bhhf50aSRiuFNR0XcXSzwYeABe2n4f0M6_W4-ZhC4IoAJ6E&s',\n",
       " 'https://encrypted-tbn0.gstatic.com/images?q=tbn:ANd9GcSi674CmffId0FAo0aBU367o63KL6vVP_9wISM1UozMfp6OftlqrqDSno1jLA&s',\n",
       " 'https://encrypted-tbn0.gstatic.com/images?q=tbn:ANd9GcTHMfaYyORRxCsb1G1i0TM6X4K-NZcMdooSEDt4XQgcN1AvrYS8q01dSEDmF_8&s',\n",
       " 'https://encrypted-tbn0.gstatic.com/images?q=tbn:ANd9GcS4PCp4DEQy93wjPU7dd7IhXWqXNS8HJpNmm1QxlpyeFfvdtp3oSrvkXspQx1M&s',\n",
       " 'https://encrypted-tbn0.gstatic.com/images?q=tbn:ANd9GcRIulSJUObqzh3-ybm0LIAan6UAIKpDqLBkuIfFW_tf-E7OGq0utiLfB72dEVU&s',\n",
       " 'https://encrypted-tbn0.gstatic.com/images?q=tbn:ANd9GcSc04L__hgqO9EH8ClLEAJswr44v7vjef_0V3hStprXWOCdB51rKJ0dfnNqWg&s',\n",
       " 'https://encrypted-tbn0.gstatic.com/images?q=tbn:ANd9GcTU3lgrkWkYUXM0MJwP1P6dItdSiKaLeitcFF8-KL3b-cT9w_R1uqA__cd-gPY&s',\n",
       " 'https://encrypted-tbn0.gstatic.com/images?q=tbn:ANd9GcRpJshBdRJyJ5npqglr7Bdnx2SZ-Gfvk2EHdy4L4cDZSUGJvQlQcTvqliiHiEM&s',\n",
       " 'https://encrypted-tbn0.gstatic.com/images?q=tbn:ANd9GcQ_J7Y_XpjzZmj2Xr34pmvGXbjC4ZCvuhaDQgGr5pHA_LjNryh_P89xL557pA&s',\n",
       " 'https://encrypted-tbn0.gstatic.com/images?q=tbn:ANd9GcQjUggCypGCZsjJsH32m-D4SOAJqaYe4b4zn48M_mHfJ5eNoz81xkRBYhbL_ok&s',\n",
       " 'https://encrypted-tbn0.gstatic.com/images?q=tbn:ANd9GcTkV57t-w_1UUcsJLYuGf6J-BcFCmggwfKAeksX3QD2BQqg2JeJCBx4Vhj8AjY&s',\n",
       " 'https://encrypted-tbn0.gstatic.com/images?q=tbn:ANd9GcQQETZKGFftPympugQIqQzbxBY0no2XQ-Xnff5SAm5nnqPwnpf9uD9ONgOCjw&s',\n",
       " 'https://encrypted-tbn0.gstatic.com/images?q=tbn:ANd9GcR3AGMadyq0a9JvkAh8nJfJRRB46f8W1Bk8IEAvA4uwknCkTnsEkiXEBusE6xM&s',\n",
       " 'https://encrypted-tbn0.gstatic.com/images?q=tbn:ANd9GcThjgPbbIg6pXrZrcILnaxgVeunxsa-N7PetPFXP90yHpyIKNxOOr-5utpTfA&s',\n",
       " 'https://encrypted-tbn0.gstatic.com/images?q=tbn:ANd9GcQMfRNhVPLBy9fpdGdoFME-bvPNpROkWZTYaM1sEb1GsJ3Nmwrv-krdr0CswVY&s',\n",
       " 'https://encrypted-tbn0.gstatic.com/images?q=tbn:ANd9GcQ4uRJEOdyrunPlFxSfNI4dDWpUVCiew9Lxjo_XhvolMCm6X6B3w5_v4DE1ODw&s',\n",
       " 'https://encrypted-tbn0.gstatic.com/images?q=tbn:ANd9GcQiyuFlsOElqtyTfcuyiyNAfc5Sza5Bg5d834vaS4SYf4JAC3P3-ONfPl27&s',\n",
       " 'https://encrypted-tbn0.gstatic.com/images?q=tbn:ANd9GcT81htjmgz94H1Yr2FjNljX5LmYQx2cMAusjiiKmOlIOcxCV7w0SqWCI16TBw&s',\n",
       " 'https://encrypted-tbn0.gstatic.com/images?q=tbn:ANd9GcQHA25h2O-WPj5fUa2i9IMMFxZ4WAbzQ89G4GVlYIrZOv2E3_FOIe_OUdEWSw8&s',\n",
       " 'https://encrypted-tbn0.gstatic.com/images?q=tbn:ANd9GcQsrwA8lcEjehHd-APRgIHVBNmPfj2D_BeUzk22exp4s7hp9fnWrHQ_KBGtaHY&s']"
      ]
     },
     "execution_count": 13,
     "metadata": {},
     "output_type": "execute_result"
    }
   ],
   "source": [
    "https_links"
   ]
  },
  {
   "cell_type": "code",
   "execution_count": 11,
   "id": "d7a24a21",
   "metadata": {},
   "outputs": [
    {
     "name": "stdout",
     "output_type": "stream",
     "text": [
      "Image 1 downloaded successfully.\n",
      "Image 2 downloaded successfully.\n",
      "Image 3 downloaded successfully.\n",
      "Image 4 downloaded successfully.\n",
      "Image 5 downloaded successfully.\n",
      "Image 6 downloaded successfully.\n",
      "Image 7 downloaded successfully.\n",
      "Image 8 downloaded successfully.\n",
      "Image 9 downloaded successfully.\n",
      "Image 10 downloaded successfully.\n",
      "Image 11 downloaded successfully.\n",
      "Image 12 downloaded successfully.\n",
      "Image 13 downloaded successfully.\n",
      "Image 14 downloaded successfully.\n",
      "Image 15 downloaded successfully.\n",
      "Image 16 downloaded successfully.\n",
      "Image 17 downloaded successfully.\n",
      "Image 18 downloaded successfully.\n",
      "Image 19 downloaded successfully.\n",
      "Image 20 downloaded successfully.\n"
     ]
    }
   ],
   "source": [
    "import os\n",
    "import requests\n",
    "\n",
    "\n",
    "if not os.path.exists('images'):\n",
    "    os.makedirs('images')\n",
    "\n",
    "for index, url in enumerate(https_links, start=1):\n",
    "    try:\n",
    "        response = requests.get(url)\n",
    "        if response.status_code == 200:\n",
    "            with open(f'images/image{index}.jpg', 'wb') as file:\n",
    "                file.write(response.content)\n",
    "                print(f\"Image {index} downloaded successfully.\")\n",
    "        else:\n",
    "            print(f\"Failed to download Image {index}. Status code: {response.status_code}\")\n",
    "    except Exception as e:\n",
    "        print(f\"Error downloading Image {index}: {e}\")\n"
   ]
  },
  {
   "cell_type": "code",
   "execution_count": null,
   "id": "b6bae588",
   "metadata": {},
   "outputs": [],
   "source": []
  },
  {
   "cell_type": "code",
   "execution_count": null,
   "id": "31cfb337",
   "metadata": {},
   "outputs": [],
   "source": []
  }
 ],
 "metadata": {
  "kernelspec": {
   "display_name": "Python 3 (ipykernel)",
   "language": "python",
   "name": "python3"
  },
  "language_info": {
   "codemirror_mode": {
    "name": "ipython",
    "version": 3
   },
   "file_extension": ".py",
   "mimetype": "text/x-python",
   "name": "python",
   "nbconvert_exporter": "python",
   "pygments_lexer": "ipython3",
   "version": "3.9.12"
  }
 },
 "nbformat": 4,
 "nbformat_minor": 5
}
